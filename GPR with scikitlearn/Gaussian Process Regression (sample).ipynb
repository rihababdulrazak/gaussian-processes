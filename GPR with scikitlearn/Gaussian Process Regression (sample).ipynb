{
 "cells": [
  {
   "cell_type": "markdown",
   "id": "5d38b704",
   "metadata": {},
   "source": [
    "### About\n",
    "$\\bullet$ Using the GaussianProcessRegression library from scikit-learn for polynomial regression\n",
    "<br> $\\bullet$ Source: https://scikit-learn.org/stable/modules/generated/sklearn.gaussian_process.GaussianProcessRegressor.html\n",
    "<br> $\\bullet$ Last worked on: August 13, 2021"
   ]
  },
  {
   "cell_type": "markdown",
   "id": "aad16216",
   "metadata": {},
   "source": [
    "### Import libraries"
   ]
  },
  {
   "cell_type": "code",
   "execution_count": null,
   "id": "acf845e9",
   "metadata": {},
   "outputs": [],
   "source": [
    "%matplotlib qt"
   ]
  },
  {
   "cell_type": "code",
   "execution_count": null,
   "id": "fe5b35f8",
   "metadata": {},
   "outputs": [],
   "source": [
    "import numpy as np\n",
    "import pandas as pd\n",
    "import matplotlib.pyplot as plt\n",
    "from warnings import catch_warnings\n",
    "from warnings import simplefilter\n",
    "from sklearn.gaussian_process import GaussianProcessRegressor\n",
    "from pandas.plotting import register_matplotlib_converters"
   ]
  },
  {
   "cell_type": "markdown",
   "id": "95dd8465",
   "metadata": {},
   "source": [
    "### $\\downarrow$ Function to enable interactive plotting"
   ]
  },
  {
   "cell_type": "code",
   "execution_count": null,
   "id": "13a302cc",
   "metadata": {},
   "outputs": [],
   "source": [
    "def onpick(event):\n",
    "    # on the pick event, find the orig line corresponding to the\n",
    "    # legend proxy line, and toggle the visibility\n",
    "    legline = event.artist\n",
    "    origline = lined[legline]\n",
    "    vis = not origline.get_visible()\n",
    "    origline.set_visible(vis)\n",
    "    # Change the alpha on the line in the legend so we can see what lines\n",
    "    # have been toggled\n",
    "    if vis:\n",
    "        legline.set_alpha(1.0)\n",
    "    else:\n",
    "        legline.set_alpha(0.2)\n",
    "    fig1.canvas.draw()\n",
    "\n",
    "    return"
   ]
  },
  {
   "cell_type": "code",
   "execution_count": null,
   "id": "251e6b6b",
   "metadata": {},
   "outputs": [],
   "source": [
    "def onpick2(event):\n",
    "    # on the pick event, find the orig line corresponding to the\n",
    "    # legend proxy line, and toggle the visibility\n",
    "    legline = event.artist\n",
    "    origline = lined2[legline]\n",
    "    vis = not origline.get_visible()\n",
    "    origline.set_visible(vis)\n",
    "    # Change the alpha on the line in the legend so we can see what lines\n",
    "    # have been toggled\n",
    "    if vis:\n",
    "        legline.set_alpha(1.0)\n",
    "    else:\n",
    "        legline.set_alpha(0.2)\n",
    "    fig2.canvas.draw()\n",
    "\n",
    "    return"
   ]
  },
  {
   "cell_type": "markdown",
   "id": "6a2d9c53",
   "metadata": {},
   "source": [
    "### $\\downarrow$ Plotting functions"
   ]
  },
  {
   "cell_type": "code",
   "execution_count": null,
   "id": "c0c34423",
   "metadata": {},
   "outputs": [],
   "source": [
    "def single_axis_plotting(input_df, sample_df):\n",
    "    \n",
    "    register_matplotlib_converters()\n",
    "    \n",
    "    Plot_dict = {}\n",
    "    fig1, ax1 = plt.subplots(figsize = (15, 6))\n",
    "    Plot_dict['sparse'], = ax1.plot(input_df['x'], input_df['y'], 'r.', markersize = 15, label = 'Sparse data')\n",
    "    Plot_dict['surrogate'], = ax1.plot(sample_df['x'], sample_df['y'], 'teal', linewidth = 2.5, alpha = 0.7, label = 'Surrogate model fit')\n",
    "        \n",
    "    ax1.set_xlabel('X', fontsize = 12)\n",
    "    ax1.set_ylabel('Y', fontsize = 12)\n",
    "    ax1.grid(True)\n",
    "    leg1 = ax1.legend(loc='best', fontsize = 12, ncol=1, borderaxespad=0)\n",
    "\n",
    "    lines1 = [Plot_dict[column_name] for column_name in ['sparse', 'surrogate']]\n",
    "    lined = {}\n",
    "    for legline1, origline1 in zip(leg1.get_lines(), lines1):\n",
    "        legline1.set_picker(5)  # 5 pts tolerance\n",
    "        lined[legline1] = origline1\n",
    "\n",
    "    fig1.canvas.mpl_connect('pick_event', onpick)\n",
    "    ax1.tick_params(labelsize=15)\n",
    "    plt.show()\n",
    "    \n",
    "    return fig1, lined"
   ]
  },
  {
   "cell_type": "code",
   "execution_count": null,
   "id": "55514b77",
   "metadata": {},
   "outputs": [],
   "source": [
    "def double_axis_plotting(input_df, sample_df):\n",
    "    \n",
    "    register_matplotlib_converters()\n",
    "\n",
    "    Plot_dict = {}\n",
    "    fig2,(ax1,ax2) = plt.subplots(2, 1, sharex=True, facecolor='w', figsize = (15, 9))\n",
    "    Plot_dict['sparse'], = ax1.plot(input_df['x'], input_df['y'], 'r.', markersize = 15, label = 'Sparse data')\n",
    "    Plot_dict['surrogate'], = ax1.plot(sample_df['x'], sample_df['y'], 'teal', linewidth = 2.5, alpha = 0.7, \\\n",
    "                                       label = 'Surrogate model fit')\n",
    "#     ax1.set_xlabel('X', fontsize = 12)\n",
    "    ax1.set_ylabel('Y', fontsize = 12)\n",
    "    ax1.grid(True)\n",
    "\n",
    "    Plot_dict['surrogate_dev'], = ax2.plot(sample_df['x'], sample_df['y (std dev)'], 'tomato', linewidth = 2.5, alpha = 0.7, \\\n",
    "                                       label = 'Surrogate model confidence')\n",
    "    ax2.set_xlabel('X', fontsize = 18)\n",
    "    ax2.set_ylabel('Standard Deviation', fontsize = 18)\n",
    "    ax2.grid(True)\n",
    "\n",
    "    ax1.spines['bottom'].set_visible(False)\n",
    "    ax2.spines['top'].set_visible(False)\n",
    "\n",
    "    d = .012\n",
    "    kwargs = dict(transform=ax1.transAxes, color='k', clip_on=False)\n",
    "    ax1.plot((-d, +d), (-d, +d), **kwargs)                                        # bottom-left diagonal\n",
    "    ax1.plot((1 - d, 1 + d), (-d, +d), **kwargs)                                  # bottom-right diagonal\n",
    "\n",
    "    kwargs.update(transform=ax2.transAxes)                                        # switch to the fourth axes\n",
    "    ax2.plot((-d, +d), (1 - d, 1 + d), **kwargs)                                  # top-left diagonal\n",
    "    ax2.plot((1 - d, 1 + d), (1 - d, 1 + d), **kwargs)                            # top-right diagonal\n",
    "\n",
    "    leg1 = ax1.legend(loc='best', fontsize = 15, ncol=1, borderaxespad=0)\n",
    "    lines1 = [Plot_dict[column_name_ax1] for column_name_ax1 in ['sparse', 'surrogate']]\n",
    "    lined2 = {}\n",
    "    for legline1, origline1 in zip(leg1.get_lines(), lines1):\n",
    "        legline1.set_picker(5)  # 5 pts tolerance\n",
    "        lined2[legline1] = origline1\n",
    "\n",
    "    leg2 = ax2.legend(loc='best', fontsize = 15, ncol=1, borderaxespad=0)\n",
    "    lines2 = [Plot_dict[column_name_ax2] for column_name_ax2 in ['surrogate_dev']]\n",
    "    for legline2, origline2 in zip(leg2.get_lines(), lines2):\n",
    "        legline2.set_picker(5)  # 5 pts tolerance\n",
    "        lined2[legline2] = origline2\n",
    "\n",
    "    fig2.canvas.mpl_connect('pick_event', onpick2)\n",
    "    \n",
    "    ax1.tick_params(labelsize=15)\n",
    "    ax2.tick_params(labelsize=15)\n",
    "    \n",
    "    plt.show()\n",
    "    \n",
    "    return fig2, lined2"
   ]
  },
  {
   "cell_type": "markdown",
   "id": "d94041a0",
   "metadata": {},
   "source": [
    "### Read data"
   ]
  },
  {
   "cell_type": "code",
   "execution_count": null,
   "id": "796e56c5",
   "metadata": {},
   "outputs": [],
   "source": [
    "filename = 'Dataset 1'\n",
    "input_df = pd.read_csv(r'{}.csv'.format(filename), low_memory=False)"
   ]
  },
  {
   "cell_type": "code",
   "execution_count": null,
   "id": "1d092111",
   "metadata": {
    "scrolled": true
   },
   "outputs": [],
   "source": [
    "input_df = input_df.drop(columns=['Unnamed: 0'])\n",
    "input_df"
   ]
  },
  {
   "cell_type": "code",
   "execution_count": null,
   "id": "133c2700",
   "metadata": {},
   "outputs": [],
   "source": [
    "X = np.vstack(input_df['x'])\n",
    "y = np.vstack(input_df['y'])"
   ]
  },
  {
   "cell_type": "markdown",
   "id": "32aa57c8",
   "metadata": {},
   "source": [
    "### Regression"
   ]
  },
  {
   "cell_type": "code",
   "execution_count": null,
   "id": "52e5d811",
   "metadata": {},
   "outputs": [],
   "source": [
    "def surrogate(model, X): \n",
    "    # catch any warning generated when making a prediction\n",
    "    with catch_warnings():\n",
    "        # ignore generated warnings\n",
    "        simplefilter('ignore')\n",
    "        return model.predict(X, return_std = True)"
   ]
  },
  {
   "cell_type": "code",
   "execution_count": null,
   "id": "2350885f",
   "metadata": {},
   "outputs": [],
   "source": [
    "# Define model\n",
    "model = GaussianProcessRegressor()\n",
    "\n",
    "# Fit data\n",
    "model.fit(X, y)\n",
    "\n",
    "# Get the Surrogate model\n",
    "Xsamples = np.asarray(np.arange(1, len(input_df)-1, 0.01))\n",
    "Xsamples = Xsamples.reshape(len(Xsamples), 1)\n",
    "ysamples,y_std = surrogate(model, Xsamples)"
   ]
  },
  {
   "cell_type": "code",
   "execution_count": null,
   "id": "284cbb5b",
   "metadata": {
    "scrolled": true
   },
   "outputs": [],
   "source": [
    "dict_samples = {'x':np.hstack(Xsamples), 'y':np.hstack(ysamples), 'y (std dev)':np.hstack(y_std)}\n",
    "df_samples = pd.DataFrame(data = dict_samples, index = range(len(Xsamples)))\n",
    "df_samples"
   ]
  },
  {
   "cell_type": "markdown",
   "id": "4992444b",
   "metadata": {},
   "source": [
    "### Single axis plotting"
   ]
  },
  {
   "cell_type": "code",
   "execution_count": null,
   "id": "bdfbd4c9",
   "metadata": {},
   "outputs": [],
   "source": [
    "fig1, lined = single_axis_plotting(input_df, df_samples)"
   ]
  },
  {
   "cell_type": "markdown",
   "id": "beafc9d9",
   "metadata": {},
   "source": [
    "### Dual axis plotting"
   ]
  },
  {
   "cell_type": "code",
   "execution_count": null,
   "id": "fcf726af",
   "metadata": {},
   "outputs": [],
   "source": [
    "fig2, lined2 = double_axis_plotting(input_df, df_samples)"
   ]
  },
  {
   "cell_type": "code",
   "execution_count": null,
   "id": "8934b222",
   "metadata": {},
   "outputs": [],
   "source": []
  }
 ],
 "metadata": {
  "kernelspec": {
   "display_name": "Python 3",
   "language": "python",
   "name": "python3"
  },
  "language_info": {
   "codemirror_mode": {
    "name": "ipython",
    "version": 3
   },
   "file_extension": ".py",
   "mimetype": "text/x-python",
   "name": "python",
   "nbconvert_exporter": "python",
   "pygments_lexer": "ipython3",
   "version": "3.8.8"
  }
 },
 "nbformat": 4,
 "nbformat_minor": 5
}
